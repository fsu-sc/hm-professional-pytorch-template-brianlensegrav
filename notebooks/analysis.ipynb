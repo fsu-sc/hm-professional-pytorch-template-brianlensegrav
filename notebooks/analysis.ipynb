{
 "cells": [
  {
   "cell_type": "code",
   "execution_count": null,
   "id": "54cc0b45",
   "metadata": {},
   "outputs": [],
   "source": [
    "import json\n",
    "from train import main as train_main\n",
    "import matplotlib.pyplot as plt\n",
    "import os\n",
    "from glob import glob\n",
    "from PIL import Image\n"
   ]
  },
  {
   "cell_type": "code",
   "execution_count": null,
   "id": "416803e7",
   "metadata": {},
   "outputs": [],
   "source": [
    "configs = [\n",
    "    'configs/config.json',\n",
    "    'configs/overfit.json',\n",
    "    'configs/underfit.json',\n",
    "    'configs/optimal.json'\n",
    "]\n",
    "\n",
    "for config_path in configs:\n",
    "    with open(config_path) as f:\n",
    "        config = json.load(f)\n",
    "        print(f\"Running: {config['name']}\")\n",
    "        train_main(config)\n"
   ]
  },
  {
   "cell_type": "markdown",
   "id": "3359a88c",
   "metadata": {},
   "source": [
    "### 📉 Loss Curve Comparisons\n",
    "![Loss Curves](../tensorboard_screenshots/loss_curves.png)\n",
    "\n",
    "### 🕒 Training Speed Differences\n",
    "![Training Speed](../tensorboard_screenshots/training_speed.png)\n",
    "\n",
    "### 🧠 Model Architecture Graphs\n",
    "![Architecture](../tensorboard_screenshots/model_architectures.png)\n"
   ]
  },
  {
   "cell_type": "code",
   "execution_count": null,
   "id": "63662216",
   "metadata": {},
   "outputs": [],
   "source": [
    "# Simulated loss data for demonstration\n",
    "experiments = {\n",
    "    \"Basic\": [0.9, 0.6, 0.3, 0.2, 0.15],\n",
    "    \"Overfit\": [0.8, 0.5, 0.1, 0.05, 0.03],\n",
    "    \"Underfit\": [1.2, 1.1, 1.0, 0.95, 0.9],\n",
    "    \"Optimal\": [0.9, 0.5, 0.25, 0.1, 0.08]\n",
    "}\n",
    "\n",
    "for name, losses in experiments.items():\n",
    "    plt.plot(losses, label=name)\n",
    "plt.xlabel(\"Epochs\")\n",
    "plt.ylabel(\"Loss\")\n",
    "plt.title(\"Training Loss Comparison\")\n",
    "plt.legend()\n",
    "plt.grid(True)\n",
    "plt.show()\n"
   ]
  },
  {
   "cell_type": "markdown",
   "id": "18894463",
   "metadata": {},
   "source": [
    "### 🔍 Analysis\n",
    "\n",
    "- **Overfitting**: The model trained with 5 layers and 100 neurons fit the training data very well, but had poor validation performance, indicating overfitting.\n",
    "- **Underfitting**: The model with only 1 layer and 4 neurons couldn't capture the complexity of the harmonic function.\n",
    "- **Optimal**: The `optimal.json` config with 3 layers, 64 neurons, and `tanh` activation had the best balance between model capacity and generalization.\n",
    "\n",
    "### ✅ Recommendations\n",
    "\n",
    "- Use 2–3 hidden layers with 32–64 neurons for moderate function complexity.\n",
    "- Use `tanh` or `relu` for nonlinear functions.\n",
    "- Increase data size and regularize if overfitting is detected.\n"
   ]
  }
 ],
 "metadata": {},
 "nbformat": 4,
 "nbformat_minor": 5
}